{
 "cells": [
  {
   "cell_type": "code",
   "execution_count": 1,
   "metadata": {},
   "outputs": [],
   "source": [
    "import pandas as pd\n",
    "import numpy as np\n",
    "import matplotlib.pyplot as plt\n",
    "import seaborn as sns"
   ]
  },
  {
   "cell_type": "code",
   "execution_count": 2,
   "metadata": {},
   "outputs": [
    {
     "data": {
      "text/html": [
       "<div>\n",
       "<style scoped>\n",
       "    .dataframe tbody tr th:only-of-type {\n",
       "        vertical-align: middle;\n",
       "    }\n",
       "\n",
       "    .dataframe tbody tr th {\n",
       "        vertical-align: top;\n",
       "    }\n",
       "\n",
       "    .dataframe thead th {\n",
       "        text-align: right;\n",
       "    }\n",
       "</style>\n",
       "<table border=\"1\" class=\"dataframe\">\n",
       "  <thead>\n",
       "    <tr style=\"text-align: right;\">\n",
       "      <th></th>\n",
       "      <th>Unnamed: 0</th>\n",
       "      <th>brand</th>\n",
       "      <th>model</th>\n",
       "      <th>color</th>\n",
       "      <th>registration_date</th>\n",
       "      <th>year</th>\n",
       "      <th>price_in_euro</th>\n",
       "      <th>power_kw</th>\n",
       "      <th>power_ps</th>\n",
       "      <th>transmission_type</th>\n",
       "      <th>fuel_type</th>\n",
       "      <th>fuel_consumption_l_100km</th>\n",
       "      <th>fuel_consumption_g_km</th>\n",
       "      <th>mileage_in_km</th>\n",
       "      <th>offer_description</th>\n",
       "    </tr>\n",
       "  </thead>\n",
       "  <tbody>\n",
       "    <tr>\n",
       "      <th>0</th>\n",
       "      <td>0</td>\n",
       "      <td>alfa-romeo</td>\n",
       "      <td>Alfa Romeo GTV</td>\n",
       "      <td>red</td>\n",
       "      <td>10/1995</td>\n",
       "      <td>1995</td>\n",
       "      <td>1300</td>\n",
       "      <td>148</td>\n",
       "      <td>201</td>\n",
       "      <td>Manual</td>\n",
       "      <td>Petrol</td>\n",
       "      <td>10,9 l/100 km</td>\n",
       "      <td>260 g/km</td>\n",
       "      <td>160500.0</td>\n",
       "      <td>2.0 V6 TB</td>\n",
       "    </tr>\n",
       "    <tr>\n",
       "      <th>1</th>\n",
       "      <td>1</td>\n",
       "      <td>alfa-romeo</td>\n",
       "      <td>Alfa Romeo 164</td>\n",
       "      <td>black</td>\n",
       "      <td>02/1995</td>\n",
       "      <td>1995</td>\n",
       "      <td>24900</td>\n",
       "      <td>191</td>\n",
       "      <td>260</td>\n",
       "      <td>Manual</td>\n",
       "      <td>Petrol</td>\n",
       "      <td>NaN</td>\n",
       "      <td>- (g/km)</td>\n",
       "      <td>190000.0</td>\n",
       "      <td>Q4 Allrad, 3.2L GTA</td>\n",
       "    </tr>\n",
       "    <tr>\n",
       "      <th>2</th>\n",
       "      <td>2</td>\n",
       "      <td>alfa-romeo</td>\n",
       "      <td>Alfa Romeo Spider</td>\n",
       "      <td>black</td>\n",
       "      <td>02/1995</td>\n",
       "      <td>1995</td>\n",
       "      <td>5900</td>\n",
       "      <td>110</td>\n",
       "      <td>150</td>\n",
       "      <td>Unknown</td>\n",
       "      <td>Petrol</td>\n",
       "      <td>NaN</td>\n",
       "      <td>- (g/km)</td>\n",
       "      <td>129000.0</td>\n",
       "      <td>ALFA ROME 916</td>\n",
       "    </tr>\n",
       "    <tr>\n",
       "      <th>3</th>\n",
       "      <td>3</td>\n",
       "      <td>alfa-romeo</td>\n",
       "      <td>Alfa Romeo Spider</td>\n",
       "      <td>black</td>\n",
       "      <td>07/1995</td>\n",
       "      <td>1995</td>\n",
       "      <td>4900</td>\n",
       "      <td>110</td>\n",
       "      <td>150</td>\n",
       "      <td>Manual</td>\n",
       "      <td>Petrol</td>\n",
       "      <td>9,5 l/100 km</td>\n",
       "      <td>225 g/km</td>\n",
       "      <td>189500.0</td>\n",
       "      <td>2.0 16V Twin Spark L</td>\n",
       "    </tr>\n",
       "    <tr>\n",
       "      <th>4</th>\n",
       "      <td>4</td>\n",
       "      <td>alfa-romeo</td>\n",
       "      <td>Alfa Romeo 164</td>\n",
       "      <td>red</td>\n",
       "      <td>11/1996</td>\n",
       "      <td>1996</td>\n",
       "      <td>17950</td>\n",
       "      <td>132</td>\n",
       "      <td>179</td>\n",
       "      <td>Manual</td>\n",
       "      <td>Petrol</td>\n",
       "      <td>7,2 l/100 km</td>\n",
       "      <td>- (g/km)</td>\n",
       "      <td>96127.0</td>\n",
       "      <td>3.0i Super V6, absoluter Topzustand !</td>\n",
       "    </tr>\n",
       "    <tr>\n",
       "      <th>...</th>\n",
       "      <td>...</td>\n",
       "      <td>...</td>\n",
       "      <td>...</td>\n",
       "      <td>...</td>\n",
       "      <td>...</td>\n",
       "      <td>...</td>\n",
       "      <td>...</td>\n",
       "      <td>...</td>\n",
       "      <td>...</td>\n",
       "      <td>...</td>\n",
       "      <td>...</td>\n",
       "      <td>...</td>\n",
       "      <td>...</td>\n",
       "      <td>...</td>\n",
       "      <td>...</td>\n",
       "    </tr>\n",
       "    <tr>\n",
       "      <th>251074</th>\n",
       "      <td>251074</td>\n",
       "      <td>volvo</td>\n",
       "      <td>Volvo XC40</td>\n",
       "      <td>white</td>\n",
       "      <td>04/2023</td>\n",
       "      <td>2023</td>\n",
       "      <td>57990</td>\n",
       "      <td>192</td>\n",
       "      <td>261</td>\n",
       "      <td>Automatic</td>\n",
       "      <td>Hybrid</td>\n",
       "      <td>NaN</td>\n",
       "      <td>43 km Reichweite</td>\n",
       "      <td>1229.0</td>\n",
       "      <td>Plus Bright T5 Recharge Intellisafe*Surround+P...</td>\n",
       "    </tr>\n",
       "    <tr>\n",
       "      <th>251075</th>\n",
       "      <td>251075</td>\n",
       "      <td>volvo</td>\n",
       "      <td>Volvo XC90</td>\n",
       "      <td>white</td>\n",
       "      <td>03/2023</td>\n",
       "      <td>2023</td>\n",
       "      <td>89690</td>\n",
       "      <td>173</td>\n",
       "      <td>235</td>\n",
       "      <td>Automatic</td>\n",
       "      <td>Diesel</td>\n",
       "      <td>7,6 l/100 km</td>\n",
       "      <td>202 g/km</td>\n",
       "      <td>4900.0</td>\n",
       "      <td>B5 AWD Diesel Ultimate Dark 7-Sitzer Massage F...</td>\n",
       "    </tr>\n",
       "    <tr>\n",
       "      <th>251076</th>\n",
       "      <td>251076</td>\n",
       "      <td>volvo</td>\n",
       "      <td>Volvo V60</td>\n",
       "      <td>white</td>\n",
       "      <td>05/2023</td>\n",
       "      <td>2023</td>\n",
       "      <td>61521</td>\n",
       "      <td>145</td>\n",
       "      <td>197</td>\n",
       "      <td>Automatic</td>\n",
       "      <td>Diesel</td>\n",
       "      <td>4,7 l/100 km</td>\n",
       "      <td>125 g/km</td>\n",
       "      <td>1531.0</td>\n",
       "      <td>B4 D Plus Dark 145 kW, 5-türig (Diesel)</td>\n",
       "    </tr>\n",
       "    <tr>\n",
       "      <th>251077</th>\n",
       "      <td>251077</td>\n",
       "      <td>volvo</td>\n",
       "      <td>Volvo XC40</td>\n",
       "      <td>white</td>\n",
       "      <td>05/2023</td>\n",
       "      <td>2023</td>\n",
       "      <td>57890</td>\n",
       "      <td>132</td>\n",
       "      <td>179</td>\n",
       "      <td>Automatic</td>\n",
       "      <td>Hybrid</td>\n",
       "      <td>NaN</td>\n",
       "      <td>45 km Reichweite</td>\n",
       "      <td>1500.0</td>\n",
       "      <td>T5 Recharge Plus Dark *Standh*360°*beh.Lenk</td>\n",
       "    </tr>\n",
       "    <tr>\n",
       "      <th>251078</th>\n",
       "      <td>251078</td>\n",
       "      <td>volvo</td>\n",
       "      <td>Volvo XC40</td>\n",
       "      <td>gold</td>\n",
       "      <td>03/2023</td>\n",
       "      <td>2023</td>\n",
       "      <td>52900</td>\n",
       "      <td>160</td>\n",
       "      <td>218</td>\n",
       "      <td>Automatic</td>\n",
       "      <td>Electric</td>\n",
       "      <td>NaN</td>\n",
       "      <td>438 km Reichweite</td>\n",
       "      <td>50.0</td>\n",
       "      <td>Ultimate Recharge Twin Motor AHK GJR</td>\n",
       "    </tr>\n",
       "  </tbody>\n",
       "</table>\n",
       "<p>251079 rows × 15 columns</p>\n",
       "</div>"
      ],
      "text/plain": [
       "        Unnamed: 0       brand              model  color registration_date  \\\n",
       "0                0  alfa-romeo     Alfa Romeo GTV    red           10/1995   \n",
       "1                1  alfa-romeo     Alfa Romeo 164  black           02/1995   \n",
       "2                2  alfa-romeo  Alfa Romeo Spider  black           02/1995   \n",
       "3                3  alfa-romeo  Alfa Romeo Spider  black           07/1995   \n",
       "4                4  alfa-romeo     Alfa Romeo 164    red           11/1996   \n",
       "...            ...         ...                ...    ...               ...   \n",
       "251074      251074       volvo         Volvo XC40  white           04/2023   \n",
       "251075      251075       volvo         Volvo XC90  white           03/2023   \n",
       "251076      251076       volvo          Volvo V60  white           05/2023   \n",
       "251077      251077       volvo         Volvo XC40  white           05/2023   \n",
       "251078      251078       volvo         Volvo XC40   gold           03/2023   \n",
       "\n",
       "        year price_in_euro power_kw power_ps transmission_type fuel_type  \\\n",
       "0       1995          1300      148      201            Manual    Petrol   \n",
       "1       1995         24900      191      260            Manual    Petrol   \n",
       "2       1995          5900      110      150           Unknown    Petrol   \n",
       "3       1995          4900      110      150            Manual    Petrol   \n",
       "4       1996         17950      132      179            Manual    Petrol   \n",
       "...      ...           ...      ...      ...               ...       ...   \n",
       "251074  2023         57990      192      261         Automatic    Hybrid   \n",
       "251075  2023         89690      173      235         Automatic    Diesel   \n",
       "251076  2023         61521      145      197         Automatic    Diesel   \n",
       "251077  2023         57890      132      179         Automatic    Hybrid   \n",
       "251078  2023         52900      160      218         Automatic  Electric   \n",
       "\n",
       "       fuel_consumption_l_100km fuel_consumption_g_km  mileage_in_km  \\\n",
       "0                 10,9 l/100 km              260 g/km       160500.0   \n",
       "1                           NaN              - (g/km)       190000.0   \n",
       "2                           NaN              - (g/km)       129000.0   \n",
       "3                  9,5 l/100 km              225 g/km       189500.0   \n",
       "4                  7,2 l/100 km              - (g/km)        96127.0   \n",
       "...                         ...                   ...            ...   \n",
       "251074                      NaN      43 km Reichweite         1229.0   \n",
       "251075             7,6 l/100 km              202 g/km         4900.0   \n",
       "251076             4,7 l/100 km              125 g/km         1531.0   \n",
       "251077                      NaN      45 km Reichweite         1500.0   \n",
       "251078                      NaN     438 km Reichweite           50.0   \n",
       "\n",
       "                                        offer_description  \n",
       "0                                               2.0 V6 TB  \n",
       "1                                     Q4 Allrad, 3.2L GTA  \n",
       "2                                           ALFA ROME 916  \n",
       "3                                    2.0 16V Twin Spark L  \n",
       "4                   3.0i Super V6, absoluter Topzustand !  \n",
       "...                                                   ...  \n",
       "251074  Plus Bright T5 Recharge Intellisafe*Surround+P...  \n",
       "251075  B5 AWD Diesel Ultimate Dark 7-Sitzer Massage F...  \n",
       "251076            B4 D Plus Dark 145 kW, 5-türig (Diesel)  \n",
       "251077        T5 Recharge Plus Dark *Standh*360°*beh.Lenk  \n",
       "251078               Ultimate Recharge Twin Motor AHK GJR  \n",
       "\n",
       "[251079 rows x 15 columns]"
      ]
     },
     "execution_count": 2,
     "metadata": {},
     "output_type": "execute_result"
    }
   ],
   "source": [
    "url=\"data.csv\"\n",
    "df=pd.read_csv(url)\n",
    "df"
   ]
  },
  {
   "cell_type": "code",
   "execution_count": 3,
   "metadata": {},
   "outputs": [
    {
     "data": {
      "text/plain": [
       "<bound method Index.unique of Index(['Unnamed: 0', 'brand', 'model', 'color', 'registration_date', 'year',\n",
       "       'price_in_euro', 'power_kw', 'power_ps', 'transmission_type',\n",
       "       'fuel_type', 'fuel_consumption_l_100km', 'fuel_consumption_g_km',\n",
       "       'mileage_in_km', 'offer_description'],\n",
       "      dtype='object')>"
      ]
     },
     "execution_count": 3,
     "metadata": {},
     "output_type": "execute_result"
    }
   ],
   "source": [
    "df.columns.unique"
   ]
  },
  {
   "cell_type": "code",
   "execution_count": 4,
   "metadata": {},
   "outputs": [
    {
     "name": "stdout",
     "output_type": "stream",
     "text": [
      "<class 'pandas.core.frame.DataFrame'>\n",
      "RangeIndex: 251079 entries, 0 to 251078\n",
      "Data columns (total 15 columns):\n",
      " #   Column                    Non-Null Count   Dtype  \n",
      "---  ------                    --------------   -----  \n",
      " 0   Unnamed: 0                251079 non-null  int64  \n",
      " 1   brand                     251079 non-null  object \n",
      " 2   model                     251079 non-null  object \n",
      " 3   color                     250913 non-null  object \n",
      " 4   registration_date         251075 non-null  object \n",
      " 5   year                      251079 non-null  object \n",
      " 6   price_in_euro             251079 non-null  object \n",
      " 7   power_kw                  250945 non-null  object \n",
      " 8   power_ps                  250950 non-null  object \n",
      " 9   transmission_type         251079 non-null  object \n",
      " 10  fuel_type                 251079 non-null  object \n",
      " 11  fuel_consumption_l_100km  224206 non-null  object \n",
      " 12  fuel_consumption_g_km     251079 non-null  object \n",
      " 13  mileage_in_km             250927 non-null  float64\n",
      " 14  offer_description         251078 non-null  object \n",
      "dtypes: float64(1), int64(1), object(13)\n",
      "memory usage: 28.7+ MB\n"
     ]
    }
   ],
   "source": [
    "df.info()"
   ]
  },
  {
   "cell_type": "code",
   "execution_count": 5,
   "metadata": {},
   "outputs": [
    {
     "data": {
      "text/html": [
       "<div>\n",
       "<style scoped>\n",
       "    .dataframe tbody tr th:only-of-type {\n",
       "        vertical-align: middle;\n",
       "    }\n",
       "\n",
       "    .dataframe tbody tr th {\n",
       "        vertical-align: top;\n",
       "    }\n",
       "\n",
       "    .dataframe thead th {\n",
       "        text-align: right;\n",
       "    }\n",
       "</style>\n",
       "<table border=\"1\" class=\"dataframe\">\n",
       "  <thead>\n",
       "    <tr style=\"text-align: right;\">\n",
       "      <th></th>\n",
       "      <th>Unnamed: 0</th>\n",
       "      <th>mileage_in_km</th>\n",
       "    </tr>\n",
       "  </thead>\n",
       "  <tbody>\n",
       "    <tr>\n",
       "      <th>count</th>\n",
       "      <td>251079.000000</td>\n",
       "      <td>2.509270e+05</td>\n",
       "    </tr>\n",
       "    <tr>\n",
       "      <th>mean</th>\n",
       "      <td>125539.000000</td>\n",
       "      <td>8.534002e+04</td>\n",
       "    </tr>\n",
       "    <tr>\n",
       "      <th>std</th>\n",
       "      <td>72480.408456</td>\n",
       "      <td>7.871706e+04</td>\n",
       "    </tr>\n",
       "    <tr>\n",
       "      <th>min</th>\n",
       "      <td>0.000000</td>\n",
       "      <td>0.000000e+00</td>\n",
       "    </tr>\n",
       "    <tr>\n",
       "      <th>25%</th>\n",
       "      <td>62769.500000</td>\n",
       "      <td>2.490400e+04</td>\n",
       "    </tr>\n",
       "    <tr>\n",
       "      <th>50%</th>\n",
       "      <td>125539.000000</td>\n",
       "      <td>6.750000e+04</td>\n",
       "    </tr>\n",
       "    <tr>\n",
       "      <th>75%</th>\n",
       "      <td>188308.500000</td>\n",
       "      <td>1.265000e+05</td>\n",
       "    </tr>\n",
       "    <tr>\n",
       "      <th>max</th>\n",
       "      <td>251078.000000</td>\n",
       "      <td>3.800000e+06</td>\n",
       "    </tr>\n",
       "  </tbody>\n",
       "</table>\n",
       "</div>"
      ],
      "text/plain": [
       "          Unnamed: 0  mileage_in_km\n",
       "count  251079.000000   2.509270e+05\n",
       "mean   125539.000000   8.534002e+04\n",
       "std     72480.408456   7.871706e+04\n",
       "min         0.000000   0.000000e+00\n",
       "25%     62769.500000   2.490400e+04\n",
       "50%    125539.000000   6.750000e+04\n",
       "75%    188308.500000   1.265000e+05\n",
       "max    251078.000000   3.800000e+06"
      ]
     },
     "execution_count": 5,
     "metadata": {},
     "output_type": "execute_result"
    }
   ],
   "source": [
    "df.describe()"
   ]
  },
  {
   "cell_type": "code",
   "execution_count": 6,
   "metadata": {},
   "outputs": [
    {
     "name": "stdout",
     "output_type": "stream",
     "text": [
      "(251079, 15)\n",
      "(251079, 15)\n"
     ]
    }
   ],
   "source": [
    "print(df.shape)\n",
    "df = df.drop_duplicates()\n",
    "print(df.shape)\n"
   ]
  },
  {
   "cell_type": "code",
   "execution_count": 7,
   "metadata": {},
   "outputs": [
    {
     "name": "stderr",
     "output_type": "stream",
     "text": [
      "<ipython-input-7-91797fc8f423>:1: UserWarning: Could not infer format, so each element will be parsed individually, falling back to `dateutil`. To ensure parsing is consistent and as-expected, please specify a format.\n",
      "  df['registration_date'] = pd.to_datetime(df['registration_date'], errors='coerce')\n"
     ]
    }
   ],
   "source": [
    "df['registration_date'] = pd.to_datetime(df['registration_date'], errors='coerce')\n",
    "\n",
    "df['reg_year'] = df['registration_date'].dt.year\n",
    "df['reg_month'] = df['registration_date'].dt.month\n",
    "\n",
    "df.drop(columns=['registration_date'], inplace=True)"
   ]
  },
  {
   "cell_type": "code",
   "execution_count": 8,
   "metadata": {},
   "outputs": [
    {
     "data": {
      "text/html": [
       "<div>\n",
       "<style scoped>\n",
       "    .dataframe tbody tr th:only-of-type {\n",
       "        vertical-align: middle;\n",
       "    }\n",
       "\n",
       "    .dataframe tbody tr th {\n",
       "        vertical-align: top;\n",
       "    }\n",
       "\n",
       "    .dataframe thead th {\n",
       "        text-align: right;\n",
       "    }\n",
       "</style>\n",
       "<table border=\"1\" class=\"dataframe\">\n",
       "  <thead>\n",
       "    <tr style=\"text-align: right;\">\n",
       "      <th></th>\n",
       "      <th>Unnamed: 0</th>\n",
       "      <th>brand</th>\n",
       "      <th>model</th>\n",
       "      <th>color</th>\n",
       "      <th>year</th>\n",
       "      <th>price_in_euro</th>\n",
       "      <th>power_kw</th>\n",
       "      <th>power_ps</th>\n",
       "      <th>transmission_type</th>\n",
       "      <th>fuel_type</th>\n",
       "      <th>fuel_consumption_l_100km</th>\n",
       "      <th>fuel_consumption_g_km</th>\n",
       "      <th>mileage_in_km</th>\n",
       "      <th>offer_description</th>\n",
       "      <th>reg_year</th>\n",
       "      <th>reg_month</th>\n",
       "    </tr>\n",
       "  </thead>\n",
       "  <tbody>\n",
       "    <tr>\n",
       "      <th>0</th>\n",
       "      <td>0</td>\n",
       "      <td>alfa-romeo</td>\n",
       "      <td>Alfa Romeo GTV</td>\n",
       "      <td>red</td>\n",
       "      <td>1995</td>\n",
       "      <td>1300</td>\n",
       "      <td>148</td>\n",
       "      <td>201</td>\n",
       "      <td>Manual</td>\n",
       "      <td>Petrol</td>\n",
       "      <td>10,9 l/100 km</td>\n",
       "      <td>260 g/km</td>\n",
       "      <td>160500.0</td>\n",
       "      <td>2.0 V6 TB</td>\n",
       "      <td>1995.0</td>\n",
       "      <td>10.0</td>\n",
       "    </tr>\n",
       "    <tr>\n",
       "      <th>1</th>\n",
       "      <td>1</td>\n",
       "      <td>alfa-romeo</td>\n",
       "      <td>Alfa Romeo 164</td>\n",
       "      <td>black</td>\n",
       "      <td>1995</td>\n",
       "      <td>24900</td>\n",
       "      <td>191</td>\n",
       "      <td>260</td>\n",
       "      <td>Manual</td>\n",
       "      <td>Petrol</td>\n",
       "      <td>NaN</td>\n",
       "      <td>- (g/km)</td>\n",
       "      <td>190000.0</td>\n",
       "      <td>Q4 Allrad, 3.2L GTA</td>\n",
       "      <td>1995.0</td>\n",
       "      <td>2.0</td>\n",
       "    </tr>\n",
       "    <tr>\n",
       "      <th>2</th>\n",
       "      <td>2</td>\n",
       "      <td>alfa-romeo</td>\n",
       "      <td>Alfa Romeo Spider</td>\n",
       "      <td>black</td>\n",
       "      <td>1995</td>\n",
       "      <td>5900</td>\n",
       "      <td>110</td>\n",
       "      <td>150</td>\n",
       "      <td>Unknown</td>\n",
       "      <td>Petrol</td>\n",
       "      <td>NaN</td>\n",
       "      <td>- (g/km)</td>\n",
       "      <td>129000.0</td>\n",
       "      <td>ALFA ROME 916</td>\n",
       "      <td>1995.0</td>\n",
       "      <td>2.0</td>\n",
       "    </tr>\n",
       "    <tr>\n",
       "      <th>3</th>\n",
       "      <td>3</td>\n",
       "      <td>alfa-romeo</td>\n",
       "      <td>Alfa Romeo Spider</td>\n",
       "      <td>black</td>\n",
       "      <td>1995</td>\n",
       "      <td>4900</td>\n",
       "      <td>110</td>\n",
       "      <td>150</td>\n",
       "      <td>Manual</td>\n",
       "      <td>Petrol</td>\n",
       "      <td>9,5 l/100 km</td>\n",
       "      <td>225 g/km</td>\n",
       "      <td>189500.0</td>\n",
       "      <td>2.0 16V Twin Spark L</td>\n",
       "      <td>1995.0</td>\n",
       "      <td>7.0</td>\n",
       "    </tr>\n",
       "    <tr>\n",
       "      <th>4</th>\n",
       "      <td>4</td>\n",
       "      <td>alfa-romeo</td>\n",
       "      <td>Alfa Romeo 164</td>\n",
       "      <td>red</td>\n",
       "      <td>1996</td>\n",
       "      <td>17950</td>\n",
       "      <td>132</td>\n",
       "      <td>179</td>\n",
       "      <td>Manual</td>\n",
       "      <td>Petrol</td>\n",
       "      <td>7,2 l/100 km</td>\n",
       "      <td>- (g/km)</td>\n",
       "      <td>96127.0</td>\n",
       "      <td>3.0i Super V6, absoluter Topzustand !</td>\n",
       "      <td>1996.0</td>\n",
       "      <td>11.0</td>\n",
       "    </tr>\n",
       "    <tr>\n",
       "      <th>...</th>\n",
       "      <td>...</td>\n",
       "      <td>...</td>\n",
       "      <td>...</td>\n",
       "      <td>...</td>\n",
       "      <td>...</td>\n",
       "      <td>...</td>\n",
       "      <td>...</td>\n",
       "      <td>...</td>\n",
       "      <td>...</td>\n",
       "      <td>...</td>\n",
       "      <td>...</td>\n",
       "      <td>...</td>\n",
       "      <td>...</td>\n",
       "      <td>...</td>\n",
       "      <td>...</td>\n",
       "      <td>...</td>\n",
       "    </tr>\n",
       "    <tr>\n",
       "      <th>251074</th>\n",
       "      <td>251074</td>\n",
       "      <td>volvo</td>\n",
       "      <td>Volvo XC40</td>\n",
       "      <td>white</td>\n",
       "      <td>2023</td>\n",
       "      <td>57990</td>\n",
       "      <td>192</td>\n",
       "      <td>261</td>\n",
       "      <td>Automatic</td>\n",
       "      <td>Hybrid</td>\n",
       "      <td>NaN</td>\n",
       "      <td>43 km Reichweite</td>\n",
       "      <td>1229.0</td>\n",
       "      <td>Plus Bright T5 Recharge Intellisafe*Surround+P...</td>\n",
       "      <td>2023.0</td>\n",
       "      <td>4.0</td>\n",
       "    </tr>\n",
       "    <tr>\n",
       "      <th>251075</th>\n",
       "      <td>251075</td>\n",
       "      <td>volvo</td>\n",
       "      <td>Volvo XC90</td>\n",
       "      <td>white</td>\n",
       "      <td>2023</td>\n",
       "      <td>89690</td>\n",
       "      <td>173</td>\n",
       "      <td>235</td>\n",
       "      <td>Automatic</td>\n",
       "      <td>Diesel</td>\n",
       "      <td>7,6 l/100 km</td>\n",
       "      <td>202 g/km</td>\n",
       "      <td>4900.0</td>\n",
       "      <td>B5 AWD Diesel Ultimate Dark 7-Sitzer Massage F...</td>\n",
       "      <td>2023.0</td>\n",
       "      <td>3.0</td>\n",
       "    </tr>\n",
       "    <tr>\n",
       "      <th>251076</th>\n",
       "      <td>251076</td>\n",
       "      <td>volvo</td>\n",
       "      <td>Volvo V60</td>\n",
       "      <td>white</td>\n",
       "      <td>2023</td>\n",
       "      <td>61521</td>\n",
       "      <td>145</td>\n",
       "      <td>197</td>\n",
       "      <td>Automatic</td>\n",
       "      <td>Diesel</td>\n",
       "      <td>4,7 l/100 km</td>\n",
       "      <td>125 g/km</td>\n",
       "      <td>1531.0</td>\n",
       "      <td>B4 D Plus Dark 145 kW, 5-türig (Diesel)</td>\n",
       "      <td>2023.0</td>\n",
       "      <td>5.0</td>\n",
       "    </tr>\n",
       "    <tr>\n",
       "      <th>251077</th>\n",
       "      <td>251077</td>\n",
       "      <td>volvo</td>\n",
       "      <td>Volvo XC40</td>\n",
       "      <td>white</td>\n",
       "      <td>2023</td>\n",
       "      <td>57890</td>\n",
       "      <td>132</td>\n",
       "      <td>179</td>\n",
       "      <td>Automatic</td>\n",
       "      <td>Hybrid</td>\n",
       "      <td>NaN</td>\n",
       "      <td>45 km Reichweite</td>\n",
       "      <td>1500.0</td>\n",
       "      <td>T5 Recharge Plus Dark *Standh*360°*beh.Lenk</td>\n",
       "      <td>2023.0</td>\n",
       "      <td>5.0</td>\n",
       "    </tr>\n",
       "    <tr>\n",
       "      <th>251078</th>\n",
       "      <td>251078</td>\n",
       "      <td>volvo</td>\n",
       "      <td>Volvo XC40</td>\n",
       "      <td>gold</td>\n",
       "      <td>2023</td>\n",
       "      <td>52900</td>\n",
       "      <td>160</td>\n",
       "      <td>218</td>\n",
       "      <td>Automatic</td>\n",
       "      <td>Electric</td>\n",
       "      <td>NaN</td>\n",
       "      <td>438 km Reichweite</td>\n",
       "      <td>50.0</td>\n",
       "      <td>Ultimate Recharge Twin Motor AHK GJR</td>\n",
       "      <td>2023.0</td>\n",
       "      <td>3.0</td>\n",
       "    </tr>\n",
       "  </tbody>\n",
       "</table>\n",
       "<p>251079 rows × 16 columns</p>\n",
       "</div>"
      ],
      "text/plain": [
       "        Unnamed: 0       brand              model  color  year price_in_euro  \\\n",
       "0                0  alfa-romeo     Alfa Romeo GTV    red  1995          1300   \n",
       "1                1  alfa-romeo     Alfa Romeo 164  black  1995         24900   \n",
       "2                2  alfa-romeo  Alfa Romeo Spider  black  1995          5900   \n",
       "3                3  alfa-romeo  Alfa Romeo Spider  black  1995          4900   \n",
       "4                4  alfa-romeo     Alfa Romeo 164    red  1996         17950   \n",
       "...            ...         ...                ...    ...   ...           ...   \n",
       "251074      251074       volvo         Volvo XC40  white  2023         57990   \n",
       "251075      251075       volvo         Volvo XC90  white  2023         89690   \n",
       "251076      251076       volvo          Volvo V60  white  2023         61521   \n",
       "251077      251077       volvo         Volvo XC40  white  2023         57890   \n",
       "251078      251078       volvo         Volvo XC40   gold  2023         52900   \n",
       "\n",
       "       power_kw power_ps transmission_type fuel_type fuel_consumption_l_100km  \\\n",
       "0           148      201            Manual    Petrol            10,9 l/100 km   \n",
       "1           191      260            Manual    Petrol                      NaN   \n",
       "2           110      150           Unknown    Petrol                      NaN   \n",
       "3           110      150            Manual    Petrol             9,5 l/100 km   \n",
       "4           132      179            Manual    Petrol             7,2 l/100 km   \n",
       "...         ...      ...               ...       ...                      ...   \n",
       "251074      192      261         Automatic    Hybrid                      NaN   \n",
       "251075      173      235         Automatic    Diesel             7,6 l/100 km   \n",
       "251076      145      197         Automatic    Diesel             4,7 l/100 km   \n",
       "251077      132      179         Automatic    Hybrid                      NaN   \n",
       "251078      160      218         Automatic  Electric                      NaN   \n",
       "\n",
       "       fuel_consumption_g_km  mileage_in_km  \\\n",
       "0                   260 g/km       160500.0   \n",
       "1                   - (g/km)       190000.0   \n",
       "2                   - (g/km)       129000.0   \n",
       "3                   225 g/km       189500.0   \n",
       "4                   - (g/km)        96127.0   \n",
       "...                      ...            ...   \n",
       "251074      43 km Reichweite         1229.0   \n",
       "251075              202 g/km         4900.0   \n",
       "251076              125 g/km         1531.0   \n",
       "251077      45 km Reichweite         1500.0   \n",
       "251078     438 km Reichweite           50.0   \n",
       "\n",
       "                                        offer_description  reg_year  reg_month  \n",
       "0                                               2.0 V6 TB    1995.0       10.0  \n",
       "1                                     Q4 Allrad, 3.2L GTA    1995.0        2.0  \n",
       "2                                           ALFA ROME 916    1995.0        2.0  \n",
       "3                                    2.0 16V Twin Spark L    1995.0        7.0  \n",
       "4                   3.0i Super V6, absoluter Topzustand !    1996.0       11.0  \n",
       "...                                                   ...       ...        ...  \n",
       "251074  Plus Bright T5 Recharge Intellisafe*Surround+P...    2023.0        4.0  \n",
       "251075  B5 AWD Diesel Ultimate Dark 7-Sitzer Massage F...    2023.0        3.0  \n",
       "251076            B4 D Plus Dark 145 kW, 5-türig (Diesel)    2023.0        5.0  \n",
       "251077        T5 Recharge Plus Dark *Standh*360°*beh.Lenk    2023.0        5.0  \n",
       "251078               Ultimate Recharge Twin Motor AHK GJR    2023.0        3.0  \n",
       "\n",
       "[251079 rows x 16 columns]"
      ]
     },
     "execution_count": 8,
     "metadata": {},
     "output_type": "execute_result"
    }
   ],
   "source": [
    "df"
   ]
  },
  {
   "cell_type": "code",
   "execution_count": 9,
   "metadata": {},
   "outputs": [
    {
     "data": {
      "text/plain": [
       "Unnamed: 0                    int64\n",
       "brand                        object\n",
       "model                        object\n",
       "color                        object\n",
       "year                         object\n",
       "price_in_euro                object\n",
       "power_kw                     object\n",
       "power_ps                     object\n",
       "transmission_type            object\n",
       "fuel_type                    object\n",
       "fuel_consumption_l_100km     object\n",
       "fuel_consumption_g_km        object\n",
       "mileage_in_km               float64\n",
       "offer_description            object\n",
       "reg_year                    float64\n",
       "reg_month                   float64\n",
       "dtype: object"
      ]
     },
     "execution_count": 9,
     "metadata": {},
     "output_type": "execute_result"
    }
   ],
   "source": [
    "df.dtypes"
   ]
  },
  {
   "cell_type": "code",
   "execution_count": 10,
   "metadata": {},
   "outputs": [],
   "source": [
    "numeric_cols = ['year', 'price_in_euro', 'power_kw', 'power_ps', 'mileage_in_km',\n",
    "                'fuel_consumption_l_100km', 'fuel_consumption_g_km', 'reg_year', 'reg_month']\n",
    "for col in numeric_cols:\n",
    "    if col in df.columns:\n",
    "        df[col] = pd.to_numeric(df[col], errors='coerce')"
   ]
  },
  {
   "cell_type": "code",
   "execution_count": 11,
   "metadata": {},
   "outputs": [
    {
     "data": {
      "text/plain": [
       "Unnamed: 0                    int64\n",
       "brand                        object\n",
       "model                        object\n",
       "color                        object\n",
       "year                        float64\n",
       "price_in_euro               float64\n",
       "power_kw                    float64\n",
       "power_ps                    float64\n",
       "transmission_type            object\n",
       "fuel_type                    object\n",
       "fuel_consumption_l_100km    float64\n",
       "fuel_consumption_g_km       float64\n",
       "mileage_in_km               float64\n",
       "offer_description            object\n",
       "reg_year                    float64\n",
       "reg_month                   float64\n",
       "dtype: object"
      ]
     },
     "execution_count": 11,
     "metadata": {},
     "output_type": "execute_result"
    }
   ],
   "source": [
    "df.dtypes"
   ]
  },
  {
   "cell_type": "code",
   "execution_count": 12,
   "metadata": {},
   "outputs": [
    {
     "name": "stdout",
     "output_type": "stream",
     "text": [
      "Missing values :\n",
      "Unnamed: 0                       0\n",
      "brand                            0\n",
      "model                            0\n",
      "color                          166\n",
      "year                           195\n",
      "price_in_euro                  199\n",
      "power_kw                       293\n",
      "power_ps                       210\n",
      "transmission_type                0\n",
      "fuel_type                        0\n",
      "fuel_consumption_l_100km    251035\n",
      "fuel_consumption_g_km       250981\n",
      "mileage_in_km                  152\n",
      "offer_description                1\n",
      "reg_year                       197\n",
      "reg_month                      197\n",
      "dtype: int64\n"
     ]
    }
   ],
   "source": [
    "print(\"Missing values :\")\n",
    "print(df.isnull().sum())"
   ]
  },
  {
   "cell_type": "code",
   "execution_count": 13,
   "metadata": {},
   "outputs": [],
   "source": [
    "df['color'].fillna(df['color'].mode()[0], inplace=True)\n",
    "df['year'].fillna(df['year'].median(), inplace=True)\n",
    "\n",
    "df['price_in_euro'].fillna(df['price_in_euro'].median(), inplace=True)\n",
    "df['power_ps'].fillna(df['power_ps'].mean(), inplace=True)\n",
    "\n",
    "\n",
    "df['power_kw'].fillna(df['power_kw'].mean(), inplace=True)\n",
    "df['mileage_in_km'].fillna(df['mileage_in_km'].median(), inplace=True)\n",
    "\n",
    "df['offer_description'].fillna(\"Unknown\", inplace=True)\n",
    "\n",
    "df.drop(columns=['fuel_consumption_l_100km'], inplace=True)\n",
    "df.drop(columns=['fuel_consumption_g_km'], inplace=True)\n",
    "\n",
    "df['reg_year'].fillna(df['reg_year'].mode()[0], inplace=True)\n",
    "df['reg_month'].fillna(df['reg_month'].mode()[0], inplace=True)\n",
    "\n",
    "\n"
   ]
  },
  {
   "cell_type": "code",
   "execution_count": 14,
   "metadata": {},
   "outputs": [
    {
     "name": "stdout",
     "output_type": "stream",
     "text": [
      "Missing values :\n",
      "Unnamed: 0           0\n",
      "brand                0\n",
      "model                0\n",
      "color                0\n",
      "year                 0\n",
      "price_in_euro        0\n",
      "power_kw             0\n",
      "power_ps             0\n",
      "transmission_type    0\n",
      "fuel_type            0\n",
      "mileage_in_km        0\n",
      "offer_description    0\n",
      "reg_year             0\n",
      "reg_month            0\n",
      "dtype: int64\n"
     ]
    }
   ],
   "source": [
    "print(\"Missing values :\")\n",
    "print(df.isnull().sum())"
   ]
  },
  {
   "cell_type": "code",
   "execution_count": 15,
   "metadata": {},
   "outputs": [
    {
     "data": {
      "text/html": [
       "<div>\n",
       "<style scoped>\n",
       "    .dataframe tbody tr th:only-of-type {\n",
       "        vertical-align: middle;\n",
       "    }\n",
       "\n",
       "    .dataframe tbody tr th {\n",
       "        vertical-align: top;\n",
       "    }\n",
       "\n",
       "    .dataframe thead th {\n",
       "        text-align: right;\n",
       "    }\n",
       "</style>\n",
       "<table border=\"1\" class=\"dataframe\">\n",
       "  <thead>\n",
       "    <tr style=\"text-align: right;\">\n",
       "      <th></th>\n",
       "      <th>Unnamed: 0</th>\n",
       "      <th>brand</th>\n",
       "      <th>model</th>\n",
       "      <th>color</th>\n",
       "      <th>year</th>\n",
       "      <th>price_in_euro</th>\n",
       "      <th>power_kw</th>\n",
       "      <th>power_ps</th>\n",
       "      <th>transmission_type</th>\n",
       "      <th>fuel_type</th>\n",
       "      <th>mileage_in_km</th>\n",
       "      <th>offer_description</th>\n",
       "      <th>reg_year</th>\n",
       "      <th>reg_month</th>\n",
       "    </tr>\n",
       "  </thead>\n",
       "  <tbody>\n",
       "    <tr>\n",
       "      <th>0</th>\n",
       "      <td>0</td>\n",
       "      <td>alfa-romeo</td>\n",
       "      <td>Alfa Romeo GTV</td>\n",
       "      <td>red</td>\n",
       "      <td>1995.0</td>\n",
       "      <td>1300.0</td>\n",
       "      <td>148.0</td>\n",
       "      <td>201.0</td>\n",
       "      <td>Manual</td>\n",
       "      <td>Petrol</td>\n",
       "      <td>160500.0</td>\n",
       "      <td>2.0 V6 TB</td>\n",
       "      <td>1995.0</td>\n",
       "      <td>10.0</td>\n",
       "    </tr>\n",
       "    <tr>\n",
       "      <th>1</th>\n",
       "      <td>1</td>\n",
       "      <td>alfa-romeo</td>\n",
       "      <td>Alfa Romeo 164</td>\n",
       "      <td>black</td>\n",
       "      <td>1995.0</td>\n",
       "      <td>24900.0</td>\n",
       "      <td>191.0</td>\n",
       "      <td>260.0</td>\n",
       "      <td>Manual</td>\n",
       "      <td>Petrol</td>\n",
       "      <td>190000.0</td>\n",
       "      <td>Q4 Allrad, 3.2L GTA</td>\n",
       "      <td>1995.0</td>\n",
       "      <td>2.0</td>\n",
       "    </tr>\n",
       "    <tr>\n",
       "      <th>2</th>\n",
       "      <td>2</td>\n",
       "      <td>alfa-romeo</td>\n",
       "      <td>Alfa Romeo Spider</td>\n",
       "      <td>black</td>\n",
       "      <td>1995.0</td>\n",
       "      <td>5900.0</td>\n",
       "      <td>110.0</td>\n",
       "      <td>150.0</td>\n",
       "      <td>Unknown</td>\n",
       "      <td>Petrol</td>\n",
       "      <td>129000.0</td>\n",
       "      <td>ALFA ROME 916</td>\n",
       "      <td>1995.0</td>\n",
       "      <td>2.0</td>\n",
       "    </tr>\n",
       "    <tr>\n",
       "      <th>3</th>\n",
       "      <td>3</td>\n",
       "      <td>alfa-romeo</td>\n",
       "      <td>Alfa Romeo Spider</td>\n",
       "      <td>black</td>\n",
       "      <td>1995.0</td>\n",
       "      <td>4900.0</td>\n",
       "      <td>110.0</td>\n",
       "      <td>150.0</td>\n",
       "      <td>Manual</td>\n",
       "      <td>Petrol</td>\n",
       "      <td>189500.0</td>\n",
       "      <td>2.0 16V Twin Spark L</td>\n",
       "      <td>1995.0</td>\n",
       "      <td>7.0</td>\n",
       "    </tr>\n",
       "    <tr>\n",
       "      <th>4</th>\n",
       "      <td>4</td>\n",
       "      <td>alfa-romeo</td>\n",
       "      <td>Alfa Romeo 164</td>\n",
       "      <td>red</td>\n",
       "      <td>1996.0</td>\n",
       "      <td>17950.0</td>\n",
       "      <td>132.0</td>\n",
       "      <td>179.0</td>\n",
       "      <td>Manual</td>\n",
       "      <td>Petrol</td>\n",
       "      <td>96127.0</td>\n",
       "      <td>3.0i Super V6, absoluter Topzustand !</td>\n",
       "      <td>1996.0</td>\n",
       "      <td>11.0</td>\n",
       "    </tr>\n",
       "    <tr>\n",
       "      <th>...</th>\n",
       "      <td>...</td>\n",
       "      <td>...</td>\n",
       "      <td>...</td>\n",
       "      <td>...</td>\n",
       "      <td>...</td>\n",
       "      <td>...</td>\n",
       "      <td>...</td>\n",
       "      <td>...</td>\n",
       "      <td>...</td>\n",
       "      <td>...</td>\n",
       "      <td>...</td>\n",
       "      <td>...</td>\n",
       "      <td>...</td>\n",
       "      <td>...</td>\n",
       "    </tr>\n",
       "    <tr>\n",
       "      <th>251074</th>\n",
       "      <td>251074</td>\n",
       "      <td>volvo</td>\n",
       "      <td>Volvo XC40</td>\n",
       "      <td>white</td>\n",
       "      <td>2023.0</td>\n",
       "      <td>57990.0</td>\n",
       "      <td>192.0</td>\n",
       "      <td>261.0</td>\n",
       "      <td>Automatic</td>\n",
       "      <td>Hybrid</td>\n",
       "      <td>1229.0</td>\n",
       "      <td>Plus Bright T5 Recharge Intellisafe*Surround+P...</td>\n",
       "      <td>2023.0</td>\n",
       "      <td>4.0</td>\n",
       "    </tr>\n",
       "    <tr>\n",
       "      <th>251075</th>\n",
       "      <td>251075</td>\n",
       "      <td>volvo</td>\n",
       "      <td>Volvo XC90</td>\n",
       "      <td>white</td>\n",
       "      <td>2023.0</td>\n",
       "      <td>89690.0</td>\n",
       "      <td>173.0</td>\n",
       "      <td>235.0</td>\n",
       "      <td>Automatic</td>\n",
       "      <td>Diesel</td>\n",
       "      <td>4900.0</td>\n",
       "      <td>B5 AWD Diesel Ultimate Dark 7-Sitzer Massage F...</td>\n",
       "      <td>2023.0</td>\n",
       "      <td>3.0</td>\n",
       "    </tr>\n",
       "    <tr>\n",
       "      <th>251076</th>\n",
       "      <td>251076</td>\n",
       "      <td>volvo</td>\n",
       "      <td>Volvo V60</td>\n",
       "      <td>white</td>\n",
       "      <td>2023.0</td>\n",
       "      <td>61521.0</td>\n",
       "      <td>145.0</td>\n",
       "      <td>197.0</td>\n",
       "      <td>Automatic</td>\n",
       "      <td>Diesel</td>\n",
       "      <td>1531.0</td>\n",
       "      <td>B4 D Plus Dark 145 kW, 5-türig (Diesel)</td>\n",
       "      <td>2023.0</td>\n",
       "      <td>5.0</td>\n",
       "    </tr>\n",
       "    <tr>\n",
       "      <th>251077</th>\n",
       "      <td>251077</td>\n",
       "      <td>volvo</td>\n",
       "      <td>Volvo XC40</td>\n",
       "      <td>white</td>\n",
       "      <td>2023.0</td>\n",
       "      <td>57890.0</td>\n",
       "      <td>132.0</td>\n",
       "      <td>179.0</td>\n",
       "      <td>Automatic</td>\n",
       "      <td>Hybrid</td>\n",
       "      <td>1500.0</td>\n",
       "      <td>T5 Recharge Plus Dark *Standh*360°*beh.Lenk</td>\n",
       "      <td>2023.0</td>\n",
       "      <td>5.0</td>\n",
       "    </tr>\n",
       "    <tr>\n",
       "      <th>251078</th>\n",
       "      <td>251078</td>\n",
       "      <td>volvo</td>\n",
       "      <td>Volvo XC40</td>\n",
       "      <td>gold</td>\n",
       "      <td>2023.0</td>\n",
       "      <td>52900.0</td>\n",
       "      <td>160.0</td>\n",
       "      <td>218.0</td>\n",
       "      <td>Automatic</td>\n",
       "      <td>Electric</td>\n",
       "      <td>50.0</td>\n",
       "      <td>Ultimate Recharge Twin Motor AHK GJR</td>\n",
       "      <td>2023.0</td>\n",
       "      <td>3.0</td>\n",
       "    </tr>\n",
       "  </tbody>\n",
       "</table>\n",
       "<p>251079 rows × 14 columns</p>\n",
       "</div>"
      ],
      "text/plain": [
       "        Unnamed: 0       brand              model  color    year  \\\n",
       "0                0  alfa-romeo     Alfa Romeo GTV    red  1995.0   \n",
       "1                1  alfa-romeo     Alfa Romeo 164  black  1995.0   \n",
       "2                2  alfa-romeo  Alfa Romeo Spider  black  1995.0   \n",
       "3                3  alfa-romeo  Alfa Romeo Spider  black  1995.0   \n",
       "4                4  alfa-romeo     Alfa Romeo 164    red  1996.0   \n",
       "...            ...         ...                ...    ...     ...   \n",
       "251074      251074       volvo         Volvo XC40  white  2023.0   \n",
       "251075      251075       volvo         Volvo XC90  white  2023.0   \n",
       "251076      251076       volvo          Volvo V60  white  2023.0   \n",
       "251077      251077       volvo         Volvo XC40  white  2023.0   \n",
       "251078      251078       volvo         Volvo XC40   gold  2023.0   \n",
       "\n",
       "        price_in_euro  power_kw  power_ps transmission_type fuel_type  \\\n",
       "0              1300.0     148.0     201.0            Manual    Petrol   \n",
       "1             24900.0     191.0     260.0            Manual    Petrol   \n",
       "2              5900.0     110.0     150.0           Unknown    Petrol   \n",
       "3              4900.0     110.0     150.0            Manual    Petrol   \n",
       "4             17950.0     132.0     179.0            Manual    Petrol   \n",
       "...               ...       ...       ...               ...       ...   \n",
       "251074        57990.0     192.0     261.0         Automatic    Hybrid   \n",
       "251075        89690.0     173.0     235.0         Automatic    Diesel   \n",
       "251076        61521.0     145.0     197.0         Automatic    Diesel   \n",
       "251077        57890.0     132.0     179.0         Automatic    Hybrid   \n",
       "251078        52900.0     160.0     218.0         Automatic  Electric   \n",
       "\n",
       "        mileage_in_km                                  offer_description  \\\n",
       "0            160500.0                                          2.0 V6 TB   \n",
       "1            190000.0                                Q4 Allrad, 3.2L GTA   \n",
       "2            129000.0                                      ALFA ROME 916   \n",
       "3            189500.0                               2.0 16V Twin Spark L   \n",
       "4             96127.0              3.0i Super V6, absoluter Topzustand !   \n",
       "...               ...                                                ...   \n",
       "251074         1229.0  Plus Bright T5 Recharge Intellisafe*Surround+P...   \n",
       "251075         4900.0  B5 AWD Diesel Ultimate Dark 7-Sitzer Massage F...   \n",
       "251076         1531.0            B4 D Plus Dark 145 kW, 5-türig (Diesel)   \n",
       "251077         1500.0        T5 Recharge Plus Dark *Standh*360°*beh.Lenk   \n",
       "251078           50.0               Ultimate Recharge Twin Motor AHK GJR   \n",
       "\n",
       "        reg_year  reg_month  \n",
       "0         1995.0       10.0  \n",
       "1         1995.0        2.0  \n",
       "2         1995.0        2.0  \n",
       "3         1995.0        7.0  \n",
       "4         1996.0       11.0  \n",
       "...          ...        ...  \n",
       "251074    2023.0        4.0  \n",
       "251075    2023.0        3.0  \n",
       "251076    2023.0        5.0  \n",
       "251077    2023.0        5.0  \n",
       "251078    2023.0        3.0  \n",
       "\n",
       "[251079 rows x 14 columns]"
      ]
     },
     "execution_count": 15,
     "metadata": {},
     "output_type": "execute_result"
    }
   ],
   "source": [
    "df"
   ]
  },
  {
   "cell_type": "code",
   "execution_count": 16,
   "metadata": {},
   "outputs": [
    {
     "name": "stdout",
     "output_type": "stream",
     "text": [
      "        brand    min       max\n",
      "0  alfa-romeo  200.0  289890.0\n"
     ]
    }
   ],
   "source": [
    "price_stats = df.groupby('brand')['price_in_euro'].agg(['min', 'max']).reset_index()\n",
    "print(price_stats.head(1))      \n"
   ]
  },
  {
   "cell_type": "code",
   "execution_count": 17,
   "metadata": {},
   "outputs": [
    {
     "name": "stdout",
     "output_type": "stream",
     "text": [
      "             brand              model  reg_year  car_age\n",
      "0       alfa-romeo     Alfa Romeo GTV    1995.0     30.0\n",
      "1       alfa-romeo     Alfa Romeo 164    1995.0     30.0\n",
      "2       alfa-romeo  Alfa Romeo Spider    1995.0     30.0\n",
      "3       alfa-romeo  Alfa Romeo Spider    1995.0     30.0\n",
      "4       alfa-romeo     Alfa Romeo 164    1996.0     29.0\n",
      "...            ...                ...       ...      ...\n",
      "251074       volvo         Volvo XC40    2023.0      2.0\n",
      "251075       volvo         Volvo XC90    2023.0      2.0\n",
      "251076       volvo          Volvo V60    2023.0      2.0\n",
      "251077       volvo         Volvo XC40    2023.0      2.0\n",
      "251078       volvo         Volvo XC40    2023.0      2.0\n",
      "\n",
      "[251079 rows x 4 columns]\n"
     ]
    }
   ],
   "source": [
    "current_year = 2025\n",
    "df['car_age'] = current_year - df['reg_year']\n",
    "print(df[['brand', 'model', 'reg_year', 'car_age']])\n"
   ]
  },
  {
   "cell_type": "code",
   "execution_count": 18,
   "metadata": {},
   "outputs": [
    {
     "name": "stdout",
     "output_type": "stream",
     "text": [
      "brand\n",
      "chrysler          4.093750\n",
      "jeep              5.048599\n",
      "mitsubishi        5.285867\n",
      "dodge             5.370703\n",
      "isuzu             5.398058\n",
      "jaguar            5.424893\n",
      "land-rover        5.764725\n",
      "seat              5.781237\n",
      "ssangyong         5.807018\n",
      "toyota            5.816723\n",
      "dacia             5.953074\n",
      "kia               6.062958\n",
      "mazda             6.282593\n",
      "skoda             6.456514\n",
      "volvo             6.546350\n",
      "nissan            6.547833\n",
      "honda             6.568153\n",
      "fiat              6.573130\n",
      "hyundai           6.646444\n",
      "citroen           6.845947\n",
      "chevrolet         7.068063\n",
      "mini              7.132014\n",
      "lamborghini       7.132964\n",
      "peugeot           7.646546\n",
      "renault           7.687026\n",
      "lada              7.963351\n",
      "maserati          7.998567\n",
      "bentley           8.009242\n",
      "ford              8.325758\n",
      "porsche           8.661445\n",
      "opel              9.166225\n",
      "cadillac          9.331210\n",
      "smart             9.385879\n",
      "alfa-romeo        9.440501\n",
      "infiniti          9.553571\n",
      "audi              9.668494\n",
      "aston-martin      9.722022\n",
      "ferrari          10.018644\n",
      "volkswagen       10.790631\n",
      "bmw              11.299344\n",
      "mercedes-benz    11.674723\n",
      "lancia           16.961905\n",
      "daihatsu         18.553922\n",
      "saab             21.351931\n",
      "daewoo           22.131148\n",
      "rover            23.196078\n",
      "proton           25.000000\n",
      "Name: car_age, dtype: float64\n"
     ]
    }
   ],
   "source": [
    "avg_age_per_brand = df.groupby('brand')['car_age'].mean().sort_values()\n",
    "print(avg_age_per_brand)\n"
   ]
  },
  {
   "cell_type": "code",
   "execution_count": 19,
   "metadata": {
    "scrolled": true
   },
   "outputs": [
    {
     "name": "stdout",
     "output_type": "stream",
     "text": [
      "brand\n",
      "volkswagen       33281\n",
      "mercedes-benz    27226\n",
      "audi             21161\n",
      "opel             20388\n",
      "bmw              19810\n",
      "ford             18790\n",
      "skoda            14039\n",
      "seat             11949\n",
      "renault           8694\n",
      "toyota            8228\n",
      "hyundai           6989\n",
      "peugeot           5848\n",
      "kia               5734\n",
      "fiat              5039\n",
      "mini              4295\n",
      "mazda             4211\n",
      "volvo             4164\n",
      "citroen           4083\n",
      "porsche           3958\n",
      "nissan            3784\n",
      "dacia             3367\n",
      "land-rover        3073\n",
      "jeep              1749\n",
      "smart             1643\n",
      "alfa-romeo        1437\n",
      "jaguar            1398\n",
      "mitsubishi         934\n",
      "honda              785\n",
      "maserati           698\n",
      "dodge              669\n",
      "ferrari            590\n",
      "bentley            541\n",
      "lamborghini        361\n",
      "ssangyong          342\n",
      "aston-martin       277\n",
      "saab               233\n",
      "isuzu              206\n",
      "daihatsu           204\n",
      "chevrolet          191\n",
      "lada               191\n",
      "cadillac           157\n",
      "infiniti           112\n",
      "lancia             105\n",
      "daewoo              61\n",
      "rover               51\n",
      "chrysler            32\n",
      "proton               1\n",
      "Name: count, dtype: int64\n"
     ]
    }
   ],
   "source": [
    "top_brands = df['brand'].value_counts()\n",
    "print(top_brands)\n"
   ]
  },
  {
   "cell_type": "code",
   "execution_count": 20,
   "metadata": {},
   "outputs": [
    {
     "name": "stdout",
     "output_type": "stream",
     "text": [
      "brand\n",
      "lamborghini      371029.412742\n",
      "ferrari          280949.623729\n",
      "bentley          188907.565619\n",
      "aston-martin     172583.144404\n",
      "porsche           93770.764528\n",
      "maserati          74702.508596\n",
      "chrysler          59935.500000\n",
      "land-rover        58797.943052\n",
      "dodge             55004.742900\n",
      "jaguar            45392.558655\n",
      "chevrolet         40798.780105\n",
      "cadillac          39653.726115\n",
      "isuzu             37336.859223\n",
      "jeep              36238.932533\n",
      "volvo             35575.030500\n",
      "alfa-romeo        31265.130828\n",
      "mercedes-benz     30724.108389\n",
      "audi              28466.191532\n",
      "ssangyong         25129.941520\n",
      "toyota            24981.025280\n",
      "bmw               24956.908178\n",
      "honda             24344.305732\n",
      "mazda             23430.678936\n",
      "infiniti          23217.008929\n",
      "mitsubishi        23126.501071\n",
      "kia               22605.998082\n",
      "nissan            22519.809461\n",
      "skoda             22286.429162\n",
      "seat              21923.217675\n",
      "mini              21765.135506\n",
      "hyundai           20585.135928\n",
      "ford              20409.419798\n",
      "peugeot           19651.471272\n",
      "citroen           19047.608866\n",
      "volkswagen        18850.096031\n",
      "renault           17316.463998\n",
      "fiat              15904.629292\n",
      "dacia             15118.758242\n",
      "opel              14664.541495\n",
      "lada              12620.256545\n",
      "smart             12450.048083\n",
      "rover             10077.235294\n",
      "lancia             7674.209524\n",
      "saab               7146.721030\n",
      "daihatsu           4112.470588\n",
      "proton             3200.000000\n",
      "daewoo             1933.098361\n",
      "Name: price_in_euro, dtype: float64\n"
     ]
    }
   ],
   "source": [
    "brand_price = df.groupby('brand')['price_in_euro'].mean().sort_values(ascending=False)\n",
    "print(brand_price)\n"
   ]
  },
  {
   "cell_type": "code",
   "execution_count": 21,
   "metadata": {},
   "outputs": [
    {
     "name": "stdout",
     "output_type": "stream",
     "text": [
      "transmission_type\n",
      "Automatic         157.982171\n",
      "Manual             91.189425\n",
      "Semi-automatic    135.618297\n",
      "Unknown           131.489014\n",
      "Name: power_kw, dtype: float64\n"
     ]
    }
   ],
   "source": [
    "power_transmission = df.groupby('transmission_type')['power_kw'].mean()\n",
    "print(power_transmission)\n"
   ]
  },
  {
   "cell_type": "code",
   "execution_count": 22,
   "metadata": {},
   "outputs": [
    {
     "name": "stdout",
     "output_type": "stream",
     "text": [
      "color\n",
      "black     58886\n",
      "grey      46786\n",
      "white     40640\n",
      "silver    34362\n",
      "blue      32092\n",
      "red       21258\n",
      "brown      4415\n",
      "green      3500\n",
      "orange     3367\n",
      "beige      2420\n",
      "Name: count, dtype: int64\n"
     ]
    }
   ],
   "source": [
    "color_counts = df['color'].value_counts()\n",
    "print(color_counts.head(10))\n"
   ]
  },
  {
   "cell_type": "code",
   "execution_count": 23,
   "metadata": {},
   "outputs": [
    {
     "name": "stdout",
     "output_type": "stream",
     "text": [
      "year\n",
      "1995.0    16647.735294\n",
      "1996.0    20882.444934\n",
      "1997.0    12363.437318\n",
      "1998.0     9940.313433\n",
      "1999.0     7694.788978\n",
      "2000.0     9667.438214\n",
      "2001.0     8474.622533\n",
      "2002.0     7584.938014\n",
      "2003.0     6847.974774\n",
      "2004.0     6826.436014\n",
      "Name: price_in_euro, dtype: float64\n"
     ]
    }
   ],
   "source": [
    "year_price = df.groupby('year')['price_in_euro'].mean()\n",
    "print(year_price.head(10))\n"
   ]
  },
  {
   "cell_type": "code",
   "execution_count": 24,
   "metadata": {},
   "outputs": [
    {
     "name": "stdout",
     "output_type": "stream",
     "text": [
      "          brand    year  price_in_euro\n",
      "0    alfa-romeo  1995.0    9250.000000\n",
      "1    alfa-romeo  1996.0    7456.000000\n",
      "2    alfa-romeo  1997.0   13426.235294\n",
      "3    alfa-romeo  1998.0    5019.714286\n",
      "4    alfa-romeo  1999.0    5475.937500\n",
      "..          ...     ...            ...\n",
      "968       volvo  2019.0   34790.951932\n",
      "969       volvo  2020.0   41352.417832\n",
      "970       volvo  2021.0   47843.649616\n",
      "971       volvo  2022.0   53252.604278\n",
      "972       volvo  2023.0   60842.702290\n",
      "\n",
      "[973 rows x 3 columns]\n"
     ]
    }
   ],
   "source": [
    "brand_year_price = df.groupby(['brand', 'year'])['price_in_euro'].mean().reset_index()\n",
    "print(brand_year_price)\n"
   ]
  },
  {
   "cell_type": "code",
   "execution_count": 25,
   "metadata": {},
   "outputs": [
    {
     "name": "stdout",
     "output_type": "stream",
     "text": [
      "          brand   color  count\n",
      "0    alfa-romeo   beige      6\n",
      "1    alfa-romeo   black    438\n",
      "2    alfa-romeo    blue    127\n",
      "3    alfa-romeo  bronze      2\n",
      "4    alfa-romeo   brown      6\n",
      "..          ...     ...    ...\n",
      "590       volvo     red    100\n",
      "591       volvo  silver    157\n",
      "592       volvo  violet      5\n",
      "593       volvo   white    686\n",
      "594       volvo  yellow      4\n",
      "\n",
      "[595 rows x 3 columns]\n"
     ]
    }
   ],
   "source": [
    "brand_color_counts = df.groupby(['brand', 'color']).size().reset_index(name='count')\n",
    "print(brand_color_counts)\n"
   ]
  },
  {
   "cell_type": "code",
   "execution_count": 26,
   "metadata": {},
   "outputs": [
    {
     "name": "stdout",
     "output_type": "stream",
     "text": [
      "    transmission_type fuel_type    power_kw\n",
      "0           Automatic   01/2016  126.477379\n",
      "1           Automatic   01/2021  126.477379\n",
      "2           Automatic   01/2022  126.477379\n",
      "3           Automatic   01/2023  126.477379\n",
      "4           Automatic   02/1996  126.477379\n",
      "..                ...       ...         ...\n",
      "159           Unknown    Hybrid  160.400000\n",
      "160           Unknown       LPG  256.000000\n",
      "161           Unknown     Other  309.000000\n",
      "162           Unknown    Petrol  136.685749\n",
      "163           Unknown   Unknown  115.059672\n",
      "\n",
      "[164 rows x 3 columns]\n"
     ]
    }
   ],
   "source": [
    "power_trans_fuel = df.groupby(['transmission_type', 'fuel_type'])['power_kw'].mean().reset_index()\n",
    "print(power_trans_fuel)\n"
   ]
  },
  {
   "cell_type": "code",
   "execution_count": 27,
   "metadata": {},
   "outputs": [
    {
     "name": "stdout",
     "output_type": "stream",
     "text": [
      "            brand transmission_type  price_in_euro\n",
      "0      alfa-romeo         Automatic   43736.973154\n",
      "1      alfa-romeo            Manual    9631.606870\n",
      "2      alfa-romeo    Semi-automatic   58839.800000\n",
      "3      alfa-romeo           Unknown   34712.714286\n",
      "4    aston-martin         Automatic  182175.653061\n",
      "..            ...               ...            ...\n",
      "155    volkswagen           Unknown   15195.440299\n",
      "156         volvo         Automatic   37925.370157\n",
      "157         volvo            Manual   18405.928279\n",
      "158         volvo    Semi-automatic   10000.000000\n",
      "159         volvo           Unknown   31442.000000\n",
      "\n",
      "[160 rows x 3 columns]\n"
     ]
    }
   ],
   "source": [
    "price_brand_trans = df.groupby(['brand', 'transmission_type'])['price_in_euro'].mean().reset_index()\n",
    "print(price_brand_trans)\n"
   ]
  },
  {
   "cell_type": "code",
   "execution_count": 28,
   "metadata": {},
   "outputs": [
    {
     "name": "stdout",
     "output_type": "stream",
     "text": [
      "brand                 volvo\n",
      "model            Volvo XC90\n",
      "price_in_euro      106900.0\n",
      "Name: 251014, dtype: object\n"
     ]
    }
   ],
   "source": [
    "idx = df[df['brand'] == 'volvo']['price_in_euro'].idxmax()\n",
    "car = df.loc[idx]\n",
    "print(car[['brand', 'model', 'price_in_euro']])\n"
   ]
  },
  {
   "cell_type": "code",
   "execution_count": 29,
   "metadata": {},
   "outputs": [
    {
     "data": {
      "image/png": "[encoded data removed]",
      "text/plain": [
       "<Figure size 864x432 with 1 Axes>"
      ]
     },
     "metadata": {
      "needs_background": "light"
     },
     "output_type": "display_data"
    }
   ],
   "source": [
    "brand_avg_price = df.groupby('brand')['price_in_euro'].mean().sort_values(ascending=False).head(10)\n",
    "# Visualization\n",
    "plt.figure(figsize=(12,6))\n",
    "sns.barplot(x=brand_avg_price.index, y=brand_avg_price.values)\n",
    "plt.title('Top 10 Brands by Average Price')\n",
    "plt.ylabel('Average Price in Euro')\n",
    "plt.xticks(rotation=45)\n",
    "plt.show()\n",
    "\n"
   ]
  },
  {
   "cell_type": "code",
   "execution_count": 30,
   "metadata": {},
   "outputs": [
    {
     "data": {
      "image/png": "[encoded data removed]",
      "text/plain": [
       "<Figure size 360x216 with 1 Axes>"
      ]
     },
     "metadata": {
      "needs_background": "light"
     },
     "output_type": "display_data"
    }
   ],
   "source": [
    "plt.figure(figsize=(5,3))\n",
    "sns.boxplot(x='fuel_type', y='price_in_euro', data=df)\n",
    "plt.title('Price Distribution by Fuel Type')\n",
    "plt.ylabel('Price in Euro')\n",
    "plt.show()\n"
   ]
  },
  {
   "cell_type": "code",
   "execution_count": 31,
   "metadata": {},
   "outputs": [
    {
     "data": {
      "image/png": "[encoded data removed]",
      "text/plain": [
       "<Figure size 864x432 with 1 Axes>"
      ]
     },
     "metadata": {
      "needs_background": "light"
     },
     "output_type": "display_data"
    }
   ],
   "source": [
    "plt.figure(figsize=(12,6))\n",
    "sns.scatterplot(x='year', y='price_in_euro', data=df, alpha=0.5)\n",
    "plt.title('Price vs Year of Manufacture')\n",
    "plt.xlabel('Year')\n",
    "plt.ylabel('Price in Euro')\n",
    "plt.show()\n"
   ]
  },
  {
   "cell_type": "code",
   "execution_count": 32,
   "metadata": {},
   "outputs": [
    {
     "data": {
      "image/png": "[encoded data removed]",
      "text/plain": [
       "<Figure size 720x360 with 1 Axes>"
      ]
     },
     "metadata": {
      "needs_background": "light"
     },
     "output_type": "display_data"
    }
   ],
   "source": [
    "model_counts = df.groupby(['brand', 'model']).size().reset_index(name='count')\n",
    "top_models = model_counts.sort_values('count', ascending=False).groupby('brand').head(5)\n",
    "bmw_models = top_models[top_models['brand'] == 'volvo']\n",
    "plt.figure(figsize=(10,5))\n",
    "sns.barplot(x='model', y='count', data=bmw_models)\n",
    "plt.title('Top 5 Volovo Models by Number of Listings')\n",
    "plt.xticks(rotation=45)\n",
    "plt.show()\n"
   ]
  },
  {
   "cell_type": "code",
   "execution_count": 33,
   "metadata": {},
   "outputs": [
    {
     "data": {
      "image/png": "[encoded data removed]",
      "text/plain": [
       "<Figure size 864x432 with 1 Axes>"
      ]
     },
     "metadata": {
      "needs_background": "light"
     },
     "output_type": "display_data"
    }
   ],
   "source": [
    "brand_power = df.groupby('brand')['power_ps'].mean().sort_values(ascending=False).head(10)\n",
    "plt.figure(figsize=(12,6))\n",
    "sns.barplot(x=brand_power.index, y=brand_power.values)\n",
    "plt.title('Top 10 Brands by Average Power (PS)')\n",
    "plt.ylabel('Average Power (PS)')\n",
    "plt.xticks(rotation=45)\n",
    "plt.show()\n",
    "\n"
   ]
  },
  {
   "cell_type": "code",
   "execution_count": 34,
   "metadata": {},
   "outputs": [
    {
     "data": {
      "image/png": "[encoded data removed]",
      "text/plain": [
       "<Figure size 864x360 with 1 Axes>"
      ]
     },
     "metadata": {
      "needs_background": "light"
     },
     "output_type": "display_data"
    }
   ],
   "source": [
    "plt.figure(figsize=(12,5))\n",
    "sns.countplot(x='reg_month', data=df)\n",
    "plt.title('Number of Listings by Registration Month')\n",
    "plt.show()\n",
    "\n"
   ]
  },
  {
   "cell_type": "code",
   "execution_count": 35,
   "metadata": {},
   "outputs": [
    {
     "data": {
      "image/png": "[encoded data removed]",
      "text/plain": [
       "<Figure size 1800x360 with 1 Axes>"
      ]
     },
     "metadata": {
      "needs_background": "light"
     },
     "output_type": "display_data"
    }
   ],
   "source": [
    "plt.figure(figsize=(25,5))\n",
    "sns.countplot(x='reg_year', data=df)\n",
    "plt.title('Number of Listings by Registration Year')\n",
    "plt.show()\n"
   ]
  },
  {
   "cell_type": "code",
   "execution_count": 36,
   "metadata": {},
   "outputs": [
    {
     "data": {
      "image/png": "[encoded data removed]",
      "text/plain": [
       "<Figure size 864x432 with 1 Axes>"
      ]
     },
     "metadata": {
      "needs_background": "light"
     },
     "output_type": "display_data"
    }
   ],
   "source": [
    "df['power_bin'] = pd.cut(df['power_ps'], bins=10)       \n",
    "\n",
    "plt.figure(figsize=(12,6))\n",
    "sns.barplot(x='power_bin', y='price_in_euro', data=df, alpha=0.7)\n",
    "plt.title('Average Price by Power (PS) Groups')\n",
    "plt.xlabel('Power (PS) Groups')\n",
    "plt.ylabel('Average Price in Euro')\n",
    "plt.xticks(rotation=45)\n",
    "plt.show()\n",
    "\n"
   ]
  },
  {
   "cell_type": "code",
   "execution_count": 37,
   "metadata": {},
   "outputs": [
    {
     "data": {
      "image/png": "[encoded data removed]",
      "text/plain": [
       "<Figure size 576x288 with 1 Axes>"
      ]
     },
     "metadata": {
      "needs_background": "light"
     },
     "output_type": "display_data"
    }
   ],
   "source": [
    "plt.figure(figsize=(8,4))\n",
    "sns.boxplot(x=df['price_in_euro'])\n",
    "plt.title('Boxplot for Price in Euro')\n",
    "plt.show()\n"
   ]
  },
  {
   "cell_type": "code",
   "execution_count": 38,
   "metadata": {},
   "outputs": [
    {
     "data": {
      "image/png": "[encoded data removed]",
      "text/plain": [
       "<Figure size 576x288 with 1 Axes>"
      ]
     },
     "metadata": {
      "needs_background": "light"
     },
     "output_type": "display_data"
    }
   ],
   "source": [
    "plt.figure(figsize=(8,4))\n",
    "sns.boxplot(x=df['power_ps'])\n",
    "plt.title('Boxplot for Power (PS)')\n",
    "plt.show()\n",
    "\n"
   ]
  },
  {
   "cell_type": "code",
   "execution_count": 39,
   "metadata": {},
   "outputs": [
    {
     "data": {
      "image/png": "[encoded data removed]",
      "text/plain": [
       "<Figure size 576x576 with 1 Axes>"
      ]
     },
     "metadata": {},
     "output_type": "display_data"
    }
   ],
   "source": [
    "brand_counts = df['brand'].value_counts().head(5)       \n",
    "plt.figure(figsize=(8, 8))\n",
    "plt.pie(brand_counts, labels=brand_counts.index, autopct='%1.1f%%', startangle=140)\n",
    "plt.title('Most Common Car Brands Distribution')\n",
    "plt.axis('equal')     \n",
    "plt.show()\n",
    "\n"
   ]
  },
  {
   "cell_type": "code",
   "execution_count": 40,
   "metadata": {},
   "outputs": [
    {
     "name": "stdout",
     "output_type": "stream",
     "text": [
      " Max Price: 5890500.00 EUR\n",
      " Min Price: 120.00 EUR\n"
     ]
    }
   ],
   "source": [
    "max_price = df['price_in_euro'].max()\n",
    "min_price = df['price_in_euro'].min()\n",
    "avg_price = df['price_in_euro'].mean()\n",
    "\n",
    "print(f\" Max Price: {max_price:.2f} EUR\")\n",
    "print(f\" Min Price: {min_price:.2f} EUR\")\n",
    "\n"
   ]
  },
  {
   "cell_type": "code",
   "execution_count": 41,
   "metadata": {},
   "outputs": [
    {
     "data": {
      "image/png": "[encoded data removed]",
      "text/plain": [
       "<Figure size 720x432 with 1 Axes>"
      ]
     },
     "metadata": {
      "needs_background": "light"
     },
     "output_type": "display_data"
    }
   ],
   "source": [
    "plt.figure(figsize=(10,6))\n",
    "sns.scatterplot(x='power_ps', y='price_in_euro', data=df, alpha=0.4)\n",
    "plt.title('Horsepower vs. Price')\n",
    "plt.xlabel('Power (PS)')\n",
    "plt.ylabel('Price in Euro')\n",
    "plt.show()\n"
   ]
  },
  {
   "cell_type": "code",
   "execution_count": 42,
   "metadata": {},
   "outputs": [
    {
     "data": {
      "image/png": "[encoded data removed]",
      "text/plain": [
       "<Figure size 720x432 with 1 Axes>"
      ]
     },
     "metadata": {
      "needs_background": "light"
     },
     "output_type": "display_data"
    }
   ],
   "source": [
    "plt.figure(figsize=(10,6))\n",
    "plt.hist(df['price_in_euro'])\n",
    "plt.title('Price Distribution of Used Cars')\n",
    "plt.xlabel('Price in Euro')\n",
    "plt.ylabel('Frequency')\n",
    "plt.show()"
   ]
  },
  {
   "cell_type": "code",
   "execution_count": 43,
   "metadata": {},
   "outputs": [
    {
     "name": "stdout",
     "output_type": "stream",
     "text": [
      "            brand                          model  count\n",
      "0      alfa-romeo             Alfa Romeo Stelvio    406\n",
      "1    aston-martin                Aston Martin V8     70\n",
      "2            audi                        Audi A3   3567\n",
      "3         bentley               Bentley Bentayga    119\n",
      "4             bmw                        BMW 320   2012\n",
      "5        cadillac                   Cadillac XT4     46\n",
      "6       chevrolet               Chevrolet Camaro    133\n",
      "7        chrysler              Chrysler Pacifica     30\n",
      "8         citroen               Citroen Berlingo    742\n",
      "9           dacia                   Dacia Duster   1107\n",
      "10         daewoo                   Daewoo Matiz     19\n",
      "11       daihatsu                Daihatsu Sirion     73\n",
      "12          dodge                      Dodge RAM    373\n",
      "13        ferrari                    Ferrari 488     97\n",
      "14           fiat                       Fiat 500   1621\n",
      "15           ford                     Ford Focus   3875\n",
      "16          honda                     Honda CR-V    260\n",
      "17        hyundai                    Hyundai i30   1616\n",
      "18       infiniti                   Infiniti Q30     24\n",
      "19          isuzu                    Isuzu D-Max    193\n",
      "20         jaguar                  Jaguar F-Pace    415\n",
      "21           jeep                  Jeep Renegade    555\n",
      "22            kia                   Kia Sportage   1279\n",
      "23           lada                      Lada Niva    108\n",
      "24    lamborghini               Lamborghini Urus    113\n",
      "25         lancia                 Lancia Ypsilon     23\n",
      "26     land-rover  Land Rover Range Rover Evoque    839\n",
      "27       maserati               Maserati Levante    217\n",
      "28          mazda                     Mazda CX-5   1108\n",
      "29  mercedes-benz            Mercedes-Benz C 180   1376\n",
      "30           mini                    MINI Cooper    755\n",
      "31     mitsubishi          Mitsubishi Space Star    267\n",
      "32         nissan                 Nissan Qashqai   1523\n",
      "33           opel                     Opel Astra   4364\n",
      "34        peugeot                    Peugeot 308    937\n",
      "35        porsche                Porsche Cayenne    992\n",
      "36         proton                     Proton 316      1\n",
      "37        renault                   Renault Clio   1463\n",
      "38          rover                       Rover 75     21\n",
      "39           saab                       Saab 9-3    158\n",
      "40           seat                      SEAT Leon   4119\n",
      "41          skoda                  Skoda Octavia   3823\n",
      "42          smart                   smart forTwo   1274\n",
      "43      ssangyong              SsangYong Korando    125\n",
      "44         toyota                   Toyota Yaris   1915\n",
      "45     volkswagen                Volkswagen Golf   7588\n",
      "46          volvo                     Volvo XC60   1316\n"
     ]
    }
   ],
   "source": [
    "top_models = df.groupby(['brand', 'model']).size().reset_index(name='count')\n",
    "top_models = top_models.sort_values(['brand', 'count'], ascending=[True, False])\n",
    "top_models = top_models.groupby('brand').first().reset_index()\n",
    "\n",
    "print(top_models[['brand', 'model', 'count']])\n"
   ]
  },
  {
   "cell_type": "code",
   "execution_count": 44,
   "metadata": {},
   "outputs": [
    {
     "data": {
      "image/png": "[encoded data removed]",
      "text/plain": [
       "<Figure size 576x360 with 1 Axes>"
      ]
     },
     "metadata": {
      "needs_background": "light"
     },
     "output_type": "display_data"
    }
   ],
   "source": [
    "transmission_price = df.groupby('transmission_type')['price_in_euro'].mean()\n",
    "plt.figure(figsize=(8,5))\n",
    "sns.barplot(x=transmission_price.index, y=transmission_price.values)\n",
    "plt.title('Average Price per Transmission Type')\n",
    "plt.ylabel('Average Price (Euro)')\n",
    "plt.xlabel('Transmission Type')\n",
    "plt.xticks(rotation=45)\n",
    "plt.show()\n",
    "\n"
   ]
  },
  {
   "cell_type": "code",
   "execution_count": 45,
   "metadata": {},
   "outputs": [
    {
     "name": "stdout",
     "output_type": "stream",
     "text": [
      "fuel_type\n",
      "Petrol        143280\n",
      "Diesel         86421\n",
      "Hybrid         12607\n",
      "Electric        5967\n",
      "LPG             1255\n",
      "               ...  \n",
      "144.919 km         1\n",
      "160.629 km         1\n",
      "05/2015            1\n",
      "07/2022            1\n",
      "06/2020            1\n",
      "Name: count, Length: 136, dtype: int64\n"
     ]
    }
   ],
   "source": [
    "fuel_counts = df['fuel_type'].value_counts()\n",
    "print(fuel_counts)\n"
   ]
  },
  {
   "cell_type": "code",
   "execution_count": 46,
   "metadata": {},
   "outputs": [
    {
     "name": "stdout",
     "output_type": "stream",
     "text": [
      "Most Expensive Car:\n",
      "brand            lamborghini\n",
      "model            Lamborghini\n",
      "price_in_euro      5890500.0\n",
      "reg_year              2018.0\n",
      "Name: 93699, dtype: object\n",
      "\n",
      " Least Expensive Car:\n",
      "brand                 volkswagen\n",
      "model            Volkswagen Polo\n",
      "price_in_euro              120.0\n",
      "reg_year                  1998.0\n",
      "Name: 213798, dtype: object\n"
     ]
    }
   ],
   "source": [
    "max_row = df.loc[df['price_in_euro'].idxmax()]\n",
    "min_row = df.loc[df['price_in_euro'].idxmin()]\n",
    "\n",
    "print(\"Most Expensive Car:\")\n",
    "print(max_row[['brand', 'model', 'price_in_euro', 'reg_year']])\n",
    "\n",
    "print(\"\\n Least Expensive Car:\")\n",
    "print(min_row[['brand', 'model', 'price_in_euro', 'reg_year']])\n"
   ]
  },
  {
   "cell_type": "code",
   "execution_count": 47,
   "metadata": {},
   "outputs": [
    {
     "data": {
      "image/png": "[encoded data removed]",
      "text/plain": [
       "<Figure size 720x432 with 1 Axes>"
      ]
     },
     "metadata": {
      "needs_background": "light"
     },
     "output_type": "display_data"
    }
   ],
   "source": [
    "plt.figure(figsize=(10,6))\n",
    "sns.scatterplot(x='car_age', y='price_in_euro', data=df, alpha=0.3)\n",
    "plt.title('Car Age vs. Price')\n",
    "plt.xlabel('Car Age (years)')\n",
    "plt.ylabel('Price in Euro')\n",
    "plt.show()\n",
    "\n"
   ]
  },
  {
   "cell_type": "code",
   "execution_count": 48,
   "metadata": {},
   "outputs": [
    {
     "data": {
      "text/html": [
       "<div>\n",
       "<style scoped>\n",
       "    .dataframe tbody tr th:only-of-type {\n",
       "        vertical-align: middle;\n",
       "    }\n",
       "\n",
       "    .dataframe tbody tr th {\n",
       "        vertical-align: top;\n",
       "    }\n",
       "\n",
       "    .dataframe thead th {\n",
       "        text-align: right;\n",
       "    }\n",
       "</style>\n",
       "<table border=\"1\" class=\"dataframe\">\n",
       "  <thead>\n",
       "    <tr style=\"text-align: right;\">\n",
       "      <th></th>\n",
       "      <th>Unnamed: 0</th>\n",
       "      <th>brand</th>\n",
       "      <th>model</th>\n",
       "      <th>color</th>\n",
       "      <th>year</th>\n",
       "      <th>price_in_euro</th>\n",
       "      <th>power_kw</th>\n",
       "      <th>power_ps</th>\n",
       "      <th>transmission_type</th>\n",
       "      <th>fuel_type</th>\n",
       "      <th>mileage_in_km</th>\n",
       "      <th>offer_description</th>\n",
       "      <th>reg_year</th>\n",
       "      <th>reg_month</th>\n",
       "      <th>car_age</th>\n",
       "      <th>power_bin</th>\n",
       "    </tr>\n",
       "  </thead>\n",
       "  <tbody>\n",
       "    <tr>\n",
       "      <th>0</th>\n",
       "      <td>0</td>\n",
       "      <td>alfa-romeo</td>\n",
       "      <td>Alfa Romeo GTV</td>\n",
       "      <td>red</td>\n",
       "      <td>1995.0</td>\n",
       "      <td>1300.0</td>\n",
       "      <td>148.0</td>\n",
       "      <td>201.0</td>\n",
       "      <td>Manual</td>\n",
       "      <td>Petrol</td>\n",
       "      <td>160500.0</td>\n",
       "      <td>2.0 V6 TB</td>\n",
       "      <td>1995.0</td>\n",
       "      <td>10.0</td>\n",
       "      <td>30.0</td>\n",
       "      <td>(-1.021, 203.1]</td>\n",
       "    </tr>\n",
       "    <tr>\n",
       "      <th>1</th>\n",
       "      <td>1</td>\n",
       "      <td>alfa-romeo</td>\n",
       "      <td>Alfa Romeo 164</td>\n",
       "      <td>black</td>\n",
       "      <td>1995.0</td>\n",
       "      <td>24900.0</td>\n",
       "      <td>191.0</td>\n",
       "      <td>260.0</td>\n",
       "      <td>Manual</td>\n",
       "      <td>Petrol</td>\n",
       "      <td>190000.0</td>\n",
       "      <td>Q4 Allrad, 3.2L GTA</td>\n",
       "      <td>1995.0</td>\n",
       "      <td>2.0</td>\n",
       "      <td>30.0</td>\n",
       "      <td>(203.1, 405.2]</td>\n",
       "    </tr>\n",
       "    <tr>\n",
       "      <th>2</th>\n",
       "      <td>2</td>\n",
       "      <td>alfa-romeo</td>\n",
       "      <td>Alfa Romeo Spider</td>\n",
       "      <td>black</td>\n",
       "      <td>1995.0</td>\n",
       "      <td>5900.0</td>\n",
       "      <td>110.0</td>\n",
       "      <td>150.0</td>\n",
       "      <td>Unknown</td>\n",
       "      <td>Petrol</td>\n",
       "      <td>129000.0</td>\n",
       "      <td>ALFA ROME 916</td>\n",
       "      <td>1995.0</td>\n",
       "      <td>2.0</td>\n",
       "      <td>30.0</td>\n",
       "      <td>(-1.021, 203.1]</td>\n",
       "    </tr>\n",
       "    <tr>\n",
       "      <th>3</th>\n",
       "      <td>3</td>\n",
       "      <td>alfa-romeo</td>\n",
       "      <td>Alfa Romeo Spider</td>\n",
       "      <td>black</td>\n",
       "      <td>1995.0</td>\n",
       "      <td>4900.0</td>\n",
       "      <td>110.0</td>\n",
       "      <td>150.0</td>\n",
       "      <td>Manual</td>\n",
       "      <td>Petrol</td>\n",
       "      <td>189500.0</td>\n",
       "      <td>2.0 16V Twin Spark L</td>\n",
       "      <td>1995.0</td>\n",
       "      <td>7.0</td>\n",
       "      <td>30.0</td>\n",
       "      <td>(-1.021, 203.1]</td>\n",
       "    </tr>\n",
       "    <tr>\n",
       "      <th>4</th>\n",
       "      <td>4</td>\n",
       "      <td>alfa-romeo</td>\n",
       "      <td>Alfa Romeo 164</td>\n",
       "      <td>red</td>\n",
       "      <td>1996.0</td>\n",
       "      <td>17950.0</td>\n",
       "      <td>132.0</td>\n",
       "      <td>179.0</td>\n",
       "      <td>Manual</td>\n",
       "      <td>Petrol</td>\n",
       "      <td>96127.0</td>\n",
       "      <td>3.0i Super V6, absoluter Topzustand !</td>\n",
       "      <td>1996.0</td>\n",
       "      <td>11.0</td>\n",
       "      <td>29.0</td>\n",
       "      <td>(-1.021, 203.1]</td>\n",
       "    </tr>\n",
       "  </tbody>\n",
       "</table>\n",
       "</div>"
      ],
      "text/plain": [
       "   Unnamed: 0       brand              model  color    year  price_in_euro  \\\n",
       "0           0  alfa-romeo     Alfa Romeo GTV    red  1995.0         1300.0   \n",
       "1           1  alfa-romeo     Alfa Romeo 164  black  1995.0        24900.0   \n",
       "2           2  alfa-romeo  Alfa Romeo Spider  black  1995.0         5900.0   \n",
       "3           3  alfa-romeo  Alfa Romeo Spider  black  1995.0         4900.0   \n",
       "4           4  alfa-romeo     Alfa Romeo 164    red  1996.0        17950.0   \n",
       "\n",
       "   power_kw  power_ps transmission_type fuel_type  mileage_in_km  \\\n",
       "0     148.0     201.0            Manual    Petrol       160500.0   \n",
       "1     191.0     260.0            Manual    Petrol       190000.0   \n",
       "2     110.0     150.0           Unknown    Petrol       129000.0   \n",
       "3     110.0     150.0            Manual    Petrol       189500.0   \n",
       "4     132.0     179.0            Manual    Petrol        96127.0   \n",
       "\n",
       "                       offer_description  reg_year  reg_month  car_age  \\\n",
       "0                              2.0 V6 TB    1995.0       10.0     30.0   \n",
       "1                    Q4 Allrad, 3.2L GTA    1995.0        2.0     30.0   \n",
       "2                          ALFA ROME 916    1995.0        2.0     30.0   \n",
       "3                   2.0 16V Twin Spark L    1995.0        7.0     30.0   \n",
       "4  3.0i Super V6, absoluter Topzustand !    1996.0       11.0     29.0   \n",
       "\n",
       "         power_bin  \n",
       "0  (-1.021, 203.1]  \n",
       "1   (203.1, 405.2]  \n",
       "2  (-1.021, 203.1]  \n",
       "3  (-1.021, 203.1]  \n",
       "4  (-1.021, 203.1]  "
      ]
     },
     "execution_count": 48,
     "metadata": {},
     "output_type": "execute_result"
    }
   ],
   "source": [
    "df.head(5)"
   ]
  },
  {
   "cell_type": "code",
   "execution_count": 49,
   "metadata": {},
   "outputs": [
    {
     "data": {
      "text/html": [
       "<div>\n",
       "<style scoped>\n",
       "    .dataframe tbody tr th:only-of-type {\n",
       "        vertical-align: middle;\n",
       "    }\n",
       "\n",
       "    .dataframe tbody tr th {\n",
       "        vertical-align: top;\n",
       "    }\n",
       "\n",
       "    .dataframe thead th {\n",
       "        text-align: right;\n",
       "    }\n",
       "</style>\n",
       "<table border=\"1\" class=\"dataframe\">\n",
       "  <thead>\n",
       "    <tr style=\"text-align: right;\">\n",
       "      <th></th>\n",
       "      <th>Unnamed: 0</th>\n",
       "      <th>brand</th>\n",
       "      <th>model</th>\n",
       "      <th>color</th>\n",
       "      <th>year</th>\n",
       "      <th>price_in_euro</th>\n",
       "      <th>power_kw</th>\n",
       "      <th>power_ps</th>\n",
       "      <th>transmission_type</th>\n",
       "      <th>fuel_type</th>\n",
       "      <th>mileage_in_km</th>\n",
       "      <th>offer_description</th>\n",
       "      <th>reg_year</th>\n",
       "      <th>reg_month</th>\n",
       "      <th>car_age</th>\n",
       "      <th>power_bin</th>\n",
       "    </tr>\n",
       "  </thead>\n",
       "  <tbody>\n",
       "    <tr>\n",
       "      <th>251074</th>\n",
       "      <td>251074</td>\n",
       "      <td>volvo</td>\n",
       "      <td>Volvo XC40</td>\n",
       "      <td>white</td>\n",
       "      <td>2023.0</td>\n",
       "      <td>57990.0</td>\n",
       "      <td>192.0</td>\n",
       "      <td>261.0</td>\n",
       "      <td>Automatic</td>\n",
       "      <td>Hybrid</td>\n",
       "      <td>1229.0</td>\n",
       "      <td>Plus Bright T5 Recharge Intellisafe*Surround+P...</td>\n",
       "      <td>2023.0</td>\n",
       "      <td>4.0</td>\n",
       "      <td>2.0</td>\n",
       "      <td>(203.1, 405.2]</td>\n",
       "    </tr>\n",
       "    <tr>\n",
       "      <th>251075</th>\n",
       "      <td>251075</td>\n",
       "      <td>volvo</td>\n",
       "      <td>Volvo XC90</td>\n",
       "      <td>white</td>\n",
       "      <td>2023.0</td>\n",
       "      <td>89690.0</td>\n",
       "      <td>173.0</td>\n",
       "      <td>235.0</td>\n",
       "      <td>Automatic</td>\n",
       "      <td>Diesel</td>\n",
       "      <td>4900.0</td>\n",
       "      <td>B5 AWD Diesel Ultimate Dark 7-Sitzer Massage F...</td>\n",
       "      <td>2023.0</td>\n",
       "      <td>3.0</td>\n",
       "      <td>2.0</td>\n",
       "      <td>(203.1, 405.2]</td>\n",
       "    </tr>\n",
       "    <tr>\n",
       "      <th>251076</th>\n",
       "      <td>251076</td>\n",
       "      <td>volvo</td>\n",
       "      <td>Volvo V60</td>\n",
       "      <td>white</td>\n",
       "      <td>2023.0</td>\n",
       "      <td>61521.0</td>\n",
       "      <td>145.0</td>\n",
       "      <td>197.0</td>\n",
       "      <td>Automatic</td>\n",
       "      <td>Diesel</td>\n",
       "      <td>1531.0</td>\n",
       "      <td>B4 D Plus Dark 145 kW, 5-türig (Diesel)</td>\n",
       "      <td>2023.0</td>\n",
       "      <td>5.0</td>\n",
       "      <td>2.0</td>\n",
       "      <td>(-1.021, 203.1]</td>\n",
       "    </tr>\n",
       "    <tr>\n",
       "      <th>251077</th>\n",
       "      <td>251077</td>\n",
       "      <td>volvo</td>\n",
       "      <td>Volvo XC40</td>\n",
       "      <td>white</td>\n",
       "      <td>2023.0</td>\n",
       "      <td>57890.0</td>\n",
       "      <td>132.0</td>\n",
       "      <td>179.0</td>\n",
       "      <td>Automatic</td>\n",
       "      <td>Hybrid</td>\n",
       "      <td>1500.0</td>\n",
       "      <td>T5 Recharge Plus Dark *Standh*360°*beh.Lenk</td>\n",
       "      <td>2023.0</td>\n",
       "      <td>5.0</td>\n",
       "      <td>2.0</td>\n",
       "      <td>(-1.021, 203.1]</td>\n",
       "    </tr>\n",
       "    <tr>\n",
       "      <th>251078</th>\n",
       "      <td>251078</td>\n",
       "      <td>volvo</td>\n",
       "      <td>Volvo XC40</td>\n",
       "      <td>gold</td>\n",
       "      <td>2023.0</td>\n",
       "      <td>52900.0</td>\n",
       "      <td>160.0</td>\n",
       "      <td>218.0</td>\n",
       "      <td>Automatic</td>\n",
       "      <td>Electric</td>\n",
       "      <td>50.0</td>\n",
       "      <td>Ultimate Recharge Twin Motor AHK GJR</td>\n",
       "      <td>2023.0</td>\n",
       "      <td>3.0</td>\n",
       "      <td>2.0</td>\n",
       "      <td>(203.1, 405.2]</td>\n",
       "    </tr>\n",
       "  </tbody>\n",
       "</table>\n",
       "</div>"
      ],
      "text/plain": [
       "        Unnamed: 0  brand       model  color    year  price_in_euro  power_kw  \\\n",
       "251074      251074  volvo  Volvo XC40  white  2023.0        57990.0     192.0   \n",
       "251075      251075  volvo  Volvo XC90  white  2023.0        89690.0     173.0   \n",
       "251076      251076  volvo   Volvo V60  white  2023.0        61521.0     145.0   \n",
       "251077      251077  volvo  Volvo XC40  white  2023.0        57890.0     132.0   \n",
       "251078      251078  volvo  Volvo XC40   gold  2023.0        52900.0     160.0   \n",
       "\n",
       "        power_ps transmission_type fuel_type  mileage_in_km  \\\n",
       "251074     261.0         Automatic    Hybrid         1229.0   \n",
       "251075     235.0         Automatic    Diesel         4900.0   \n",
       "251076     197.0         Automatic    Diesel         1531.0   \n",
       "251077     179.0         Automatic    Hybrid         1500.0   \n",
       "251078     218.0         Automatic  Electric           50.0   \n",
       "\n",
       "                                        offer_description  reg_year  \\\n",
       "251074  Plus Bright T5 Recharge Intellisafe*Surround+P...    2023.0   \n",
       "251075  B5 AWD Diesel Ultimate Dark 7-Sitzer Massage F...    2023.0   \n",
       "251076            B4 D Plus Dark 145 kW, 5-türig (Diesel)    2023.0   \n",
       "251077        T5 Recharge Plus Dark *Standh*360°*beh.Lenk    2023.0   \n",
       "251078               Ultimate Recharge Twin Motor AHK GJR    2023.0   \n",
       "\n",
       "        reg_month  car_age        power_bin  \n",
       "251074        4.0      2.0   (203.1, 405.2]  \n",
       "251075        3.0      2.0   (203.1, 405.2]  \n",
       "251076        5.0      2.0  (-1.021, 203.1]  \n",
       "251077        5.0      2.0  (-1.021, 203.1]  \n",
       "251078        3.0      2.0   (203.1, 405.2]  "
      ]
     },
     "execution_count": 49,
     "metadata": {},
     "output_type": "execute_result"
    }
   ],
   "source": [
    "df.tail(5)"
   ]
  },
  {
   "cell_type": "code",
   "execution_count": null,
   "metadata": {},
   "outputs": [],
   "source": []
  }
 ],
 "metadata": {
  "kernelspec": {
   "display_name": "Python 3",
   "language": "python",
   "name": "python3"
  },
  "language_info": {
   "codemirror_mode": {
    "name": "ipython",
    "version": 3
   },
   "file_extension": ".py",
   "mimetype": "text/x-python",
   "name": "python",
   "nbconvert_exporter": "python",
   "pygments_lexer": "ipython3",
   "version": "3.8.5"
  }
 },
 "nbformat": 4,
 "nbformat_minor": 4
}
